{
  "metadata": {
    "kernelspec": {
      "name": "python",
      "display_name": "Python (Pyodide)",
      "language": "python"
    },
    "language_info": {
      "codemirror_mode": {
        "name": "python",
        "version": 3
      },
      "file_extension": ".py",
      "mimetype": "text/x-python",
      "name": "python",
      "nbconvert_exporter": "python",
      "pygments_lexer": "ipython3",
      "version": "3.8"
    }
  },
  "nbformat_minor": 5,
  "nbformat": 4,
  "cells": [
    {
      "id": "f0e86a90-a2c3-4bab-8817-95f13fa39ed8",
      "cell_type": "code",
      "source": "",
      "metadata": {
        "trusted": true
      },
      "outputs": [],
      "execution_count": null
    },
    {
      "id": "b8f5b5bd-7695-4b93-bb1e-db2086231221",
      "cell_type": "code",
      "source": "    import micropip\n\n    # Use await to ensure the installation completes before proceeding\n    # This might take a moment depending on your internet connection and the size of the packages\n    print(\"Attempting to install packages using micropip...\")\n    await micropip.install(['seaborn', 'matplotlib', 'pandas', 'ipywidgets'])\n    print(\"Packages installed (or already present) using micropip.\")\n    ",
      "metadata": {
        "trusted": true
      },
      "outputs": [
        {
          "name": "stdout",
          "output_type": "stream",
          "text": "Attempting to install packages using micropip...\nPackages installed (or already present) using micropip.\n"
        }
      ],
      "execution_count": 1
    },
    {
      "id": "c5a09e64-d8af-4c4f-ac90-859e9e472fce",
      "cell_type": "code",
      "source": "import pandas as pd\nimport matplotlib.pyplot as plt\nimport seaborn as sns\nfrom ipywidgets import interact, Dropdown, FloatSlider, IntSlider, VBox, HBox, Output\nfrom IPython.display import display, clear_output\n\n# Load the dataset\ntry:\n    # Make sure the path to your CSV file is correct relative to your notebook's location\n    # If the file is in the same directory as the notebook, just use 'SUM CALCULATED.csv'\n    # If it's in a subfolder named 'MultipleFiles', then 'MultipleFiles/SUM CALCULATED.csv' is correct.\n    df = pd.read_csv('SUM CALCULATED.csv')\n    print(\"Dataset loaded successfully.\")\nexcept FileNotFoundError:\n    print(\"Error: 'MultipleFiles/SUM CALCULATED.csv' not found.\")\n    print(\"Please ensure the file is in the correct directory or update the path.\")\n    df = None # Explicitly set df to None if loading fails\n\nif df is not None:\n    # Display the first few rows and columns to understand the data\n    print(\"First 5 rows of the dataset:\")\n    display(df.head())\n    print(\"\\nColumns in the dataset:\")\n    display(df.columns.tolist())\nelse:\n    print(\"\\nDataFrame 'df' was not loaded. Please resolve the FileNotFoundError before proceeding.\")\n\n",
      "metadata": {
        "trusted": true
      },
      "outputs": [
        {
          "name": "stderr",
          "output_type": "stream",
          "text": "Matplotlib is building the font cache; this may take a moment.\n"
        },
        {
          "name": "stdout",
          "output_type": "stream",
          "text": "Dataset loaded successfully.\nFirst 5 rows of the dataset:\n"
        },
        {
          "output_type": "display_data",
          "data": {
            "text/plain": "   Brand Image  Brand Perception  Brand Advocacy  Brand Analytics  \\\n0         13.0              20.0            21.0             23.0   \n1         16.0              20.0            18.0             20.0   \n2         15.0              16.0            14.0             22.0   \n3         16.0              17.0            23.0             28.0   \n4         10.0              15.0            17.0             20.0   \n\n   Marketing Intelligence  Artificial Intelligence  Brand Love  Age  Income  \\\n0                    21.0                     21.0        25.0    2       4   \n1                    15.0                     19.0        19.0    1       4   \n2                    21.0                     24.0        23.0    3       2   \n3                    30.0                     27.0        25.0    1       1   \n4                    18.0                     17.0        16.0    1       4   \n\n   Gender  Work  Education  \n0       2     2          2  \n1       1     1          2  \n2       2     2          1  \n3       2     6          2  \n4       2     1          2  ",
            "text/html": "<div>\n<style scoped>\n    .dataframe tbody tr th:only-of-type {\n        vertical-align: middle;\n    }\n\n    .dataframe tbody tr th {\n        vertical-align: top;\n    }\n\n    .dataframe thead th {\n        text-align: right;\n    }\n</style>\n<table border=\"1\" class=\"dataframe\">\n  <thead>\n    <tr style=\"text-align: right;\">\n      <th></th>\n      <th>Brand Image</th>\n      <th>Brand Perception</th>\n      <th>Brand Advocacy</th>\n      <th>Brand Analytics</th>\n      <th>Marketing Intelligence</th>\n      <th>Artificial Intelligence</th>\n      <th>Brand Love</th>\n      <th>Age</th>\n      <th>Income</th>\n      <th>Gender</th>\n      <th>Work</th>\n      <th>Education</th>\n    </tr>\n  </thead>\n  <tbody>\n    <tr>\n      <th>0</th>\n      <td>13.0</td>\n      <td>20.0</td>\n      <td>21.0</td>\n      <td>23.0</td>\n      <td>21.0</td>\n      <td>21.0</td>\n      <td>25.0</td>\n      <td>2</td>\n      <td>4</td>\n      <td>2</td>\n      <td>2</td>\n      <td>2</td>\n    </tr>\n    <tr>\n      <th>1</th>\n      <td>16.0</td>\n      <td>20.0</td>\n      <td>18.0</td>\n      <td>20.0</td>\n      <td>15.0</td>\n      <td>19.0</td>\n      <td>19.0</td>\n      <td>1</td>\n      <td>4</td>\n      <td>1</td>\n      <td>1</td>\n      <td>2</td>\n    </tr>\n    <tr>\n      <th>2</th>\n      <td>15.0</td>\n      <td>16.0</td>\n      <td>14.0</td>\n      <td>22.0</td>\n      <td>21.0</td>\n      <td>24.0</td>\n      <td>23.0</td>\n      <td>3</td>\n      <td>2</td>\n      <td>2</td>\n      <td>2</td>\n      <td>1</td>\n    </tr>\n    <tr>\n      <th>3</th>\n      <td>16.0</td>\n      <td>17.0</td>\n      <td>23.0</td>\n      <td>28.0</td>\n      <td>30.0</td>\n      <td>27.0</td>\n      <td>25.0</td>\n      <td>1</td>\n      <td>1</td>\n      <td>2</td>\n      <td>6</td>\n      <td>2</td>\n    </tr>\n    <tr>\n      <th>4</th>\n      <td>10.0</td>\n      <td>15.0</td>\n      <td>17.0</td>\n      <td>20.0</td>\n      <td>18.0</td>\n      <td>17.0</td>\n      <td>16.0</td>\n      <td>1</td>\n      <td>4</td>\n      <td>2</td>\n      <td>1</td>\n      <td>2</td>\n    </tr>\n  </tbody>\n</table>\n</div>"
          },
          "metadata": {}
        },
        {
          "name": "stdout",
          "output_type": "stream",
          "text": "\nColumns in the dataset:\n"
        },
        {
          "output_type": "display_data",
          "data": {
            "text/plain": "['Brand Image',\n 'Brand Perception',\n 'Brand Advocacy',\n 'Brand Analytics',\n 'Marketing Intelligence',\n 'Artificial Intelligence',\n 'Brand Love',\n 'Age',\n 'Income',\n 'Gender',\n 'Work',\n 'Education']"
          },
          "metadata": {}
        }
      ],
      "execution_count": 2
    },
    {
      "id": "7a415162-1f95-4274-8b77-9c54759e24b3",
      "cell_type": "code",
      "source": "# This block will only execute if df was successfully loaded in the previous cell\nif df is not None:\n    def calculate_brand_love_score(data, weights=None):\n        \"\"\"\n        Calculates a composite brand love score based on various brand metrics.\n\n        Args:\n            data (pd.DataFrame): The input DataFrame containing brand metrics.\n            weights (dict, optional): A dictionary of weights for each metric.\n                                       Keys should be column names, values their weights.\n                                       If None, default weights are used.\n\n        Returns:\n            pd.Series: A Series containing the calculated brand love score for each row.\n        \"\"\"\n        if weights is None:\n            weights = {\n                'Brand Image': 0.15,\n                'Brand Perception': 0.15,\n                'Brand Advocacy': 0.20,\n                'Brand Analytics': 0.10,\n                'Marketing Intelligence': 0.10,\n                'Artificial Intelligence': 0.10,\n                'Brand Love': 0.20  # Direct measure of brand love, given higher weight\n            }\n\n        # Ensure all weighted columns exist in the data\n        for col in list(weights.keys()): # Iterate over a copy of keys to allow modification\n            if col not in data.columns:\n                print(f\"Warning: Column '{col}' not found in data. Setting its weight to 0 for score calculation.\")\n                weights[col] = 0 # Set weight to 0 if column is missing\n\n        score = pd.Series(0.0, index=data.index)\n        total_weight = 0\n\n        for col, weight in weights.items():\n            if col in data.columns and weight > 0: # Only add if column exists and has a positive weight\n                score += data[col] * weight\n                total_weight += weight\n\n        if total_weight > 0:\n            score /= total_weight\n        else:\n            print(\"Warning: No valid columns with positive weights found for brand love score calculation. Returning zeros.\")\n            score = pd.Series(0.0, index=data.index)\n\n        return score\n\n    df['Brand_Love_Score'] = calculate_brand_love_score(df)\n    print(\"\\nBrand Love Score calculated and added to the DataFrame.\")\n    display(df[['Brand Love', 'Brand_Love_Score']].head())\nelse:\n    print(\"\\nSkipping Brand Love Score calculation as DataFrame 'df' was not loaded.\")\n\n",
      "metadata": {
        "trusted": true
      },
      "outputs": [
        {
          "name": "stdout",
          "output_type": "stream",
          "text": "\nBrand Love Score calculated and added to the DataFrame.\n"
        },
        {
          "output_type": "display_data",
          "data": {
            "text/plain": "   Brand Love  Brand_Love_Score\n0        25.0             20.65\n1        19.0             18.20\n2        23.0             18.75\n3        25.0             23.05\n4        16.0             15.85",
            "text/html": "<div>\n<style scoped>\n    .dataframe tbody tr th:only-of-type {\n        vertical-align: middle;\n    }\n\n    .dataframe tbody tr th {\n        vertical-align: top;\n    }\n\n    .dataframe thead th {\n        text-align: right;\n    }\n</style>\n<table border=\"1\" class=\"dataframe\">\n  <thead>\n    <tr style=\"text-align: right;\">\n      <th></th>\n      <th>Brand Love</th>\n      <th>Brand_Love_Score</th>\n    </tr>\n  </thead>\n  <tbody>\n    <tr>\n      <th>0</th>\n      <td>25.0</td>\n      <td>20.65</td>\n    </tr>\n    <tr>\n      <th>1</th>\n      <td>19.0</td>\n      <td>18.20</td>\n    </tr>\n    <tr>\n      <th>2</th>\n      <td>23.0</td>\n      <td>18.75</td>\n    </tr>\n    <tr>\n      <th>3</th>\n      <td>25.0</td>\n      <td>23.05</td>\n    </tr>\n    <tr>\n      <th>4</th>\n      <td>16.0</td>\n      <td>15.85</td>\n    </tr>\n  </tbody>\n</table>\n</div>"
          },
          "metadata": {}
        }
      ],
      "execution_count": 3
    },
    {
      "id": "aec807ba-0ec5-46ee-98f2-1944b5b28d8a",
      "cell_type": "code",
      "source": "# This block will only execute if df was successfully loaded and processed\nif df is not None:\n    # Define interactive widgets\n    # Ensure min/max values are correctly handled for sliders, especially if data is sparse\n    age_min = df['Age'].min() if not df['Age'].empty else 1\n    age_max = df['Age'].max() if not df['Age'].empty else 100\n    income_min = df['Income'].min() if not df['Income'].empty else 1\n    income_max = df['Income'].max() if not df['Income'].empty else 100\n\n    age_slider = IntSlider(min=age_min, max=age_max, step=1, description='Age Filter:', value=age_max)\n    income_slider = IntSlider(min=income_min, max=income_max, step=1, description='Income Filter:', value=income_max)\n\n    # Ensure unique values are correctly handled for dropdowns\n    gender_options = ['All'] + df['Gender'].unique().tolist() if 'Gender' in df.columns else ['All']\n    work_options = ['All'] + df['Work'].unique().tolist() if 'Work' in df.columns else ['All']\n    education_options = ['All'] + df['Education'].unique().tolist() if 'Education' in df.columns else ['All']\n\n    gender_dropdown = Dropdown(options=gender_options, description='Gender Filter:')\n    work_dropdown = Dropdown(options=work_options, description='Work Filter:')\n    education_dropdown = Dropdown(options=education_options, description='Education Filter:')\n\n    # Ensure all columns are available for plot dropdowns\n    all_columns = df.columns.tolist()\n    plot_type_dropdown = Dropdown(options=['Histogram', 'Scatter Plot', 'Box Plot', 'Correlation Heatmap'], description='Plot Type:')\n    x_axis_dropdown = Dropdown(options=all_columns, description='X-axis:')\n    y_axis_dropdown = Dropdown(options=all_columns, description='Y-axis:')\n    hue_dropdown = Dropdown(options=['None'] + all_columns, description='Group By:')\n\n    # Output widget to display plots\n    output_area = Output()\n\n    def update_dashboard(age, income, gender, work, education, plot_type, x_axis, y_axis, hue_col):\n        with output_area:\n            clear_output(wait=True)\n            filtered_df = df.copy()\n\n            # Apply filters\n            # Check if columns exist before filtering to prevent KeyError on filter columns\n            if 'Age' in filtered_df.columns:\n                filtered_df = filtered_df[filtered_df['Age'] <= age]\n            if 'Income' in filtered_df.columns:\n                filtered_df = filtered_df[filtered_df['Income'] <= income]\n            if 'Gender' in filtered_df.columns and gender != 'All':\n                filtered_df = filtered_df[filtered_df['Gender'] == gender]\n            if 'Work' in filtered_df.columns and work != 'All':\n                filtered_df = filtered_df[filtered_df['Work'] == work]\n            if 'Education' in filtered_df.columns and education != 'All':\n                filtered_df = filtered_df[filtered_df['Education'] == education]\n\n            if filtered_df.empty:\n                print(\"No data matches the selected filters. Please adjust your selections.\")\n                return\n\n            plt.figure(figsize=(10, 6))\n\n            if plot_type == 'Histogram':\n                if x_axis in filtered_df.columns:\n                    sns.histplot(data=filtered_df, x=x_axis, kde=True, hue=hue_col if hue_col != 'None' and hue_col in filtered_df.columns else None)\n                    plt.title(f'Distribution of {x_axis}')\n                    plt.xlabel(x_axis)\n                    plt.ylabel('Frequency')\n                else:\n                    print(f\"Column '{x_axis}' not found in filtered data for histogram.\")\n            elif plot_type == 'Scatter Plot':\n                if x_axis in filtered_df.columns and y_axis in filtered_df.columns:\n                    sns.scatterplot(data=filtered_df, x=x_axis, y=y_axis, hue=hue_col if hue_col != 'None' and hue_col in filtered_df.columns else None)\n                    plt.title(f'Scatter Plot of {x_axis} vs {y_axis}')\n                    plt.xlabel(x_axis)\n                    plt.ylabel(y_axis)\n                else:\n                    print(f\"Columns '{x_axis}' or '{y_axis}' not found in filtered data for scatter plot.\")\n            elif plot_type == 'Box Plot':\n                if x_axis in filtered_df.columns:\n                    sns.boxplot(data=filtered_df, y=x_axis, x=hue_col if hue_col != 'None' and hue_col in filtered_df.columns else None)\n                    plt.title(f'Box Plot of {x_axis}')\n                    plt.ylabel(x_axis)\n                else:\n                    print(f\"Column '{x_axis}' not found in filtered data for box plot.\")\n            elif plot_type == 'Correlation Heatmap':\n                numeric_df = filtered_df.select_dtypes(include=['float64', 'int64'])\n                if not numeric_df.empty:\n                    # Drop columns with all NaN values before correlation calculation\n                    numeric_df = numeric_df.dropna(axis=1, how='all')\n                    if not numeric_df.empty:\n                        corr_matrix = numeric_df.corr()\n                        sns.heatmap(corr_matrix, annot=True, cmap='coolwarm', fmt=\".2f\")\n                        plt.title('Correlation Heatmap of Numeric Features')\n                    else:\n                        print(\"No numeric data available after dropping all-NaN columns for correlation heatmap.\")\n                else:\n                    print(\"No numeric data available for correlation heatmap.\")\n\n            plt.tight_layout()\n            plt.show()\n\n    # Link widgets to the update function\n    # Ensure default values for dropdowns are valid options\n    initial_gender = gender_options[0] if gender_options else 'All'\n    initial_work = work_options[0] if work_options else 'All'\n    initial_education = education_options[0] if education_options else 'All'\n\n    interactive_dashboard = interact(update_dashboard,\n                                     age=age_slider,\n                                     income=income_slider,\n                                     gender=gender_dropdown,\n                                     work=work_dropdown,\n                                     education=education_dropdown,\n                                     plot_type=plot_type_dropdown,\n                                     x_axis=x_axis_dropdown,\n                                     y_axis=y_axis_dropdown,\n                                     hue_col=hue_dropdown)\n\n    # Arrange widgets in a layout\n    filter_widgets = VBox([age_slider, income_slider, gender_dropdown, work_dropdown, education_dropdown])\n    plot_widgets = VBox([plot_type_dropdown, x_axis_dropdown, y_axis_dropdown, hue_dropdown])\n\n    ui = HBox([filter_widgets, plot_widgets])\n    dashboard_layout = VBox([ui, output_area])\n\n    print(\"\\nBrand Love Score Dashboard:\")\n    display(dashboard_layout)\nelse:\n    print(\"\\nSkipping dashboard creation as DataFrame 'df' was not loaded.\")\n\n",
      "metadata": {
        "trusted": true
      },
      "outputs": [
        {
          "output_type": "display_data",
          "data": {
            "text/plain": "interactive(children=(IntSlider(value=6, description='Age Filter:', max=6, min=1), IntSlider(value=4, descript…",
            "application/vnd.jupyter.widget-view+json": {
              "version_major": 2,
              "version_minor": 0,
              "model_id": "3d4814495ce944b2bb127b4f7b1d959b"
            }
          },
          "metadata": {}
        },
        {
          "name": "stdout",
          "output_type": "stream",
          "text": "\nBrand Love Score Dashboard:\n"
        },
        {
          "output_type": "display_data",
          "data": {
            "text/plain": "VBox(children=(HBox(children=(VBox(children=(IntSlider(value=6, description='Age Filter:', max=6, min=1), IntS…",
            "application/vnd.jupyter.widget-view+json": {
              "version_major": 2,
              "version_minor": 0,
              "model_id": "01a9ba2a0cb647f1b7ef858a3b4f6a1d"
            }
          },
          "metadata": {}
        }
      ],
      "execution_count": 4
    }
  ]
}